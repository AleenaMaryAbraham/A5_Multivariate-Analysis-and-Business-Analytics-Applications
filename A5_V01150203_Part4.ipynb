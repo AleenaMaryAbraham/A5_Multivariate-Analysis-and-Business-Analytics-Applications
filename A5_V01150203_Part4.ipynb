{
 "cells": [
  {
   "cell_type": "code",
   "execution_count": 1,
   "id": "daee6f0c-28ca-42a0-9d8f-50d0d0b24888",
   "metadata": {},
   "outputs": [],
   "source": [
    "import pandas as pd, numpy as np\n",
    "df=pd.read_csv('C:/Users/Aleena Mary Abraham/OneDrive/Desktop/SCMA632_2025/DATA/pizza_data.csv')"
   ]
  },
  {
   "cell_type": "code",
   "execution_count": 2,
   "id": "640d2ec3-176b-4ded-946f-1145935a6827",
   "metadata": {},
   "outputs": [
    {
     "name": "stdout",
     "output_type": "stream",
     "text": [
      "                            OLS Regression Results                            \n",
      "==============================================================================\n",
      "Dep. Variable:                ranking   R-squared:                       0.999\n",
      "Model:                            OLS   Adj. R-squared:                  0.989\n",
      "Method:                 Least Squares   F-statistic:                     97.07\n",
      "Date:                Thu, 03 Jul 2025   Prob (F-statistic):             0.0794\n",
      "Time:                        07:18:40   Log-Likelihood:                 10.568\n",
      "No. Observations:                  16   AIC:                             8.864\n",
      "Df Residuals:                       1   BIC:                             20.45\n",
      "Df Model:                          14                                         \n",
      "Covariance Type:            nonrobust                                         \n",
      "================================================================================================\n",
      "                                   coef    std err          t      P>|t|      [0.025      0.975]\n",
      "------------------------------------------------------------------------------------------------\n",
      "Intercept                        8.5000      0.125     68.000      0.009       6.912      10.088\n",
      "C(brand, Sum)[S.Dominos]      6.661e-16      0.217   3.08e-15      1.000      -2.751       2.751\n",
      "C(brand, Sum)[S.Onesta]       1.776e-15      0.217    8.2e-15      1.000      -2.751       2.751\n",
      "C(brand, Sum)[S.Oven Story]     -0.2500      0.217     -1.155      0.454      -3.001       2.501\n",
      "C(price, Sum)[S.$1.00]           0.7500      0.217      3.464      0.179      -2.001       3.501\n",
      "C(price, Sum)[S.$2.00]       -5.995e-15      0.217  -2.77e-14      1.000      -2.751       2.751\n",
      "C(price, Sum)[S.$3.00]        6.661e-15      0.217   3.08e-14      1.000      -2.751       2.751\n",
      "C(weight, Sum)[S.100g]           5.0000      0.217     23.094      0.028       2.249       7.751\n",
      "C(weight, Sum)[S.200g]           2.0000      0.217      9.238      0.069      -0.751       4.751\n",
      "C(weight, Sum)[S.300g]          -1.2500      0.217     -5.774      0.109      -4.001       1.501\n",
      "C(crust, Sum)[S.thick]           1.7500      0.125     14.000      0.045       0.162       3.338\n",
      "C(cheese, Sum)[S.Cheddar]       -0.2500      0.125     -2.000      0.295      -1.838       1.338\n",
      "C(size, Sum)[S.large]           -0.2500      0.125     -2.000      0.295      -1.838       1.338\n",
      "C(toppings, Sum)[S.mushroom]     1.1250      0.125      9.000      0.070      -0.463       2.713\n",
      "C(spicy, Sum)[S.extra]           0.7500      0.125      6.000      0.105      -0.838       2.338\n",
      "==============================================================================\n",
      "Omnibus:                       30.796   Durbin-Watson:                   2.000\n",
      "Prob(Omnibus):                  0.000   Jarque-Bera (JB):                2.667\n",
      "Skew:                           0.000   Prob(JB):                        0.264\n",
      "Kurtosis:                       1.000   Cond. No.                         2.00\n",
      "==============================================================================\n",
      "\n",
      "Notes:\n",
      "[1] Standard Errors assume that the covariance matrix of the errors is correctly specified.\n"
     ]
    },
    {
     "name": "stderr",
     "output_type": "stream",
     "text": [
      "C:\\Users\\Aleena Mary Abraham\\anaconda3\\Lib\\site-packages\\scipy\\stats\\_axis_nan_policy.py:531: UserWarning: kurtosistest only valid for n>=20 ... continuing anyway, n=16\n",
      "  res = hypotest_fun_out(*samples, **kwds)\n"
     ]
    }
   ],
   "source": [
    "import statsmodels.api as sm\n",
    "import statsmodels.formula.api as smf\n",
    "\n",
    "model='ranking ~ C(brand,Sum)+C(price,Sum)+C(weight,Sum)+C(crust,Sum)+C(cheese,Sum)+C(size,Sum)+C(toppings,Sum)+C(spicy,Sum)'\n",
    "model_fit=smf.ols(model,data=df).fit()\n",
    "print(model_fit.summary())"
   ]
  },
  {
   "cell_type": "code",
   "execution_count": 3,
   "id": "5149a281-43de-417a-90ab-ddcf7b8e7499",
   "metadata": {},
   "outputs": [],
   "source": [
    "conjoint_attributes = ['brand','price','weight','crust','cheese','size','toppings','spicy']"
   ]
  },
  {
   "cell_type": "code",
   "execution_count": 4,
   "id": "ae41424c-7d67-45e2-80ae-3aaf816ad54a",
   "metadata": {},
   "outputs": [
    {
     "name": "stdout",
     "output_type": "stream",
     "text": [
      "brand\n",
      "price\n",
      "weight\n",
      "crust\n",
      "cheese\n",
      "size\n",
      "toppings\n",
      "spicy\n",
      "-------------------------------------------------------------\n",
      "level name:\n",
      "[['Dominos', 'Onesta', 'Oven Story', 'Pizza hut'], ['$1.00', '$2.00', '$3.00', '$4.00'], ['100g', '200g', '300g', '400g'], ['thick', 'thin'], ['Cheddar', 'Mozzarella'], ['large', 'regular'], ['mushroom', 'paneer'], ['extra', 'normal']]\n",
      "npw with sum element:\n",
      "[0.7499999999999996, -0.7499999999999996]\n",
      "imp level:\n",
      "{'brand': 3, 'price': 0, 'weight': 0, 'crust': 0, 'cheese': 1, 'size': 1, 'toppings': 0, 'spicy': 0}\n",
      "part worth:\n",
      "[[6.661338147750939e-16, 1.7763568394002505e-15, -0.2500000000000031, 0.25000000000000067], [0.7499999999999996, -5.995204332975845e-15, 6.661338147750939e-15, -0.7500000000000002], [5.000000000000004, 1.999999999999988, -1.2499999999999916, -5.750000000000001], [1.7500000000000004, -1.7500000000000004], [-0.25000000000000044, 0.25000000000000044], [-0.2500000000000006, 0.2500000000000006], [1.1249999999999996, -1.1249999999999996], [0.7499999999999996, -0.7499999999999996]]\n",
      "part_worth_range:\n",
      "[0.5000000000000038, 1.4999999999999998, 10.750000000000005, 3.500000000000001, 0.5000000000000009, 0.5000000000000012, 2.249999999999999, 1.4999999999999991]\n",
      "8\n",
      "important levels:\n",
      "{'brand': 3, 'price': 0, 'weight': 0, 'crust': 0, 'cheese': 1, 'size': 1, 'toppings': 0, 'spicy': 0}\n"
     ]
    }
   ],
   "source": [
    "level_name = []\n",
    "part_worth = []\n",
    "part_worth_range = []\n",
    "important_levels = {}\n",
    "end = 1  # Initialize index for coefficient in params\n",
    "\n",
    "for item in conjoint_attributes:\n",
    "    nlevels = len(list(np.unique(df[item])))\n",
    "    level_name.append(list(np.unique(df[item])))\n",
    "    \n",
    "    begin = end\n",
    "    end = begin + nlevels -1\n",
    "    \n",
    "    new_part_worth = list(model_fit.params[begin:end])\n",
    "    new_part_worth.append((-1)*sum(new_part_worth))\n",
    "    important_levels[item] = np.argmax(new_part_worth)\n",
    "    part_worth.append(new_part_worth)\n",
    "    print(item)\n",
    "    #print(part_worth)\n",
    "    part_worth_range.append(max(new_part_worth) - min(new_part_worth))\n",
    "    # next iteration\n",
    "print(\"-------------------------------------------------------------\")\n",
    "print(\"level name:\")\n",
    "print(level_name)\n",
    "print(\"npw with sum element:\")\n",
    "print(new_part_worth)\n",
    "print(\"imp level:\")\n",
    "print(important_levels)\n",
    "print(\"part worth:\")\n",
    "print(part_worth)\n",
    "print(\"part_worth_range:\")\n",
    "print(part_worth_range)\n",
    "print(len(part_worth))\n",
    "print(\"important levels:\")\n",
    "print(important_levels)"
   ]
  },
  {
   "cell_type": "code",
   "execution_count": 5,
   "id": "ab44938f-dffb-4314-8fa9-ab1d0e7ddb71",
   "metadata": {},
   "outputs": [
    {
     "name": "stdout",
     "output_type": "stream",
     "text": [
      "[2.38, 7.14, 51.19, 16.67, 2.38, 2.38, 10.71, 7.14]\n"
     ]
    }
   ],
   "source": [
    "attribute_importance = []\n",
    "for i in part_worth_range:\n",
    "    #print(i)\n",
    "    attribute_importance.append(round(100*(i/sum(part_worth_range)),2))\n",
    "print(attribute_importance)"
   ]
  },
  {
   "cell_type": "code",
   "execution_count": 6,
   "id": "c6e86c2b-ed92-4b2c-83da-091d0909fe72",
   "metadata": {},
   "outputs": [
    {
     "name": "stdout",
     "output_type": "stream",
     "text": [
      "Attribute : brand\n",
      "    Relative importance of attribute  2.38\n",
      "    Level wise part worths: \n",
      "0\n",
      "0\n",
      "          Dominos:6.661338147750939e-16\n",
      "0\n",
      "1\n",
      "          Onesta:1.7763568394002505e-15\n",
      "0\n",
      "2\n",
      "          Oven Story:-0.2500000000000031\n",
      "0\n",
      "3\n",
      "          Pizza hut:0.25000000000000067\n",
      "Attribute : price\n",
      "    Relative importance of attribute  7.14\n",
      "    Level wise part worths: \n",
      "1\n",
      "0\n",
      "          $1.00:0.7499999999999996\n",
      "1\n",
      "1\n",
      "          $2.00:-5.995204332975845e-15\n",
      "1\n",
      "2\n",
      "          $3.00:6.661338147750939e-15\n",
      "1\n",
      "3\n",
      "          $4.00:-0.7500000000000002\n",
      "Attribute : weight\n",
      "    Relative importance of attribute  51.19\n",
      "    Level wise part worths: \n",
      "2\n",
      "0\n",
      "          100g:5.000000000000004\n",
      "2\n",
      "1\n",
      "          200g:1.999999999999988\n",
      "2\n",
      "2\n",
      "          300g:-1.2499999999999916\n",
      "2\n",
      "3\n",
      "          400g:-5.750000000000001\n",
      "Attribute : crust\n",
      "    Relative importance of attribute  16.67\n",
      "    Level wise part worths: \n",
      "3\n",
      "0\n",
      "          thick:1.7500000000000004\n",
      "3\n",
      "1\n",
      "          thin:-1.7500000000000004\n",
      "Attribute : cheese\n",
      "    Relative importance of attribute  2.38\n",
      "    Level wise part worths: \n",
      "4\n",
      "0\n",
      "          Cheddar:-0.25000000000000044\n",
      "4\n",
      "1\n",
      "          Mozzarella:0.25000000000000044\n",
      "Attribute : size\n",
      "    Relative importance of attribute  2.38\n",
      "    Level wise part worths: \n",
      "5\n",
      "0\n",
      "          large:-0.2500000000000006\n",
      "5\n",
      "1\n",
      "          regular:0.2500000000000006\n",
      "Attribute : toppings\n",
      "    Relative importance of attribute  10.71\n",
      "    Level wise part worths: \n",
      "6\n",
      "0\n",
      "          mushroom:1.1249999999999996\n",
      "6\n",
      "1\n",
      "          paneer:-1.1249999999999996\n",
      "Attribute : spicy\n",
      "    Relative importance of attribute  7.14\n",
      "    Level wise part worths: \n",
      "7\n",
      "0\n",
      "          extra:0.7499999999999996\n",
      "7\n",
      "1\n",
      "          normal:-0.7499999999999996\n"
     ]
    },
    {
     "data": {
      "text/plain": [
       "{'Dominos': 6.661338147750939e-16,\n",
       " 'Onesta': 1.7763568394002505e-15,\n",
       " 'Oven Story': -0.2500000000000031,\n",
       " 'Pizza hut': 0.25000000000000067,\n",
       " '$1.00': 0.7499999999999996,\n",
       " '$2.00': -5.995204332975845e-15,\n",
       " '$3.00': 6.661338147750939e-15,\n",
       " '$4.00': -0.7500000000000002,\n",
       " '100g': 5.000000000000004,\n",
       " '200g': 1.999999999999988,\n",
       " '300g': -1.2499999999999916,\n",
       " '400g': -5.750000000000001,\n",
       " 'thick': 1.7500000000000004,\n",
       " 'thin': -1.7500000000000004,\n",
       " 'Cheddar': -0.25000000000000044,\n",
       " 'Mozzarella': 0.25000000000000044,\n",
       " 'large': -0.2500000000000006,\n",
       " 'regular': 0.2500000000000006,\n",
       " 'mushroom': 1.1249999999999996,\n",
       " 'paneer': -1.1249999999999996,\n",
       " 'extra': 0.7499999999999996,\n",
       " 'normal': -0.7499999999999996}"
      ]
     },
     "execution_count": 6,
     "metadata": {},
     "output_type": "execute_result"
    }
   ],
   "source": [
    "part_worth_dict={}\n",
    "attrib_level={}\n",
    "for item,i in zip(conjoint_attributes,range(0,len(conjoint_attributes))):\n",
    "    print(\"Attribute :\",item)\n",
    "    print(\"    Relative importance of attribute \",attribute_importance[i])\n",
    "    print(\"    Level wise part worths: \")\n",
    "    for j in range(0,len(level_name[i])):\n",
    "        print(i)\n",
    "        print(j)\n",
    "        print(\"          {}:{}\".format(level_name[i][j],part_worth[i][j]))\n",
    "        part_worth_dict[level_name[i][j]]=part_worth[i][j]\n",
    "        attrib_level[item]=(level_name[i])\n",
    "        #print(j)\n",
    "part_worth_dict"
   ]
  },
  {
   "cell_type": "code",
   "execution_count": 7,
   "id": "934ddf9a-30c2-4cf2-86ea-ed0fc3645b5d",
   "metadata": {},
   "outputs": [
    {
     "data": {
      "text/plain": [
       "Text(0, 0.5, 'Importance')"
      ]
     },
     "execution_count": 7,
     "metadata": {},
     "output_type": "execute_result"
    },
    {
     "data": {
      "image/png": "[encoded data removed]",
      "text/plain": [
       "<Figure size 1000x500 with 1 Axes>"
      ]
     },
     "metadata": {},
     "output_type": "display_data"
    }
   ],
   "source": [
    "import matplotlib.pyplot as plt\n",
    "import seaborn as sns\n",
    "plt.figure(figsize=(10,5))\n",
    "sns.barplot(x=conjoint_attributes,y=attribute_importance)\n",
    "plt.title('Relative importance of attributes')\n",
    "plt.xlabel('Attributes')\n",
    "plt.ylabel('Importance')"
   ]
  },
  {
   "cell_type": "code",
   "execution_count": 8,
   "id": "0d3253ff-8fe1-41fe-a560-e64dd9b5e44a",
   "metadata": {},
   "outputs": [
    {
     "data": {
      "text/plain": [
       "[2.6250000000000053,\n",
       " 3.37500000000001,\n",
       " 0.37499999999999023,\n",
       " -6.374999999999998,\n",
       " -0.37499999999999734,\n",
       " 4.3749999999999885,\n",
       " -1.374999999999982,\n",
       " -4.624999999999993,\n",
       " -3.6250000000000053,\n",
       " 7.625,\n",
       " -5.375000000000002,\n",
       " -2.3750000000000218,\n",
       " 1.3750000000000058,\n",
       " 6.375000000000002,\n",
       " -7.6249999999999964,\n",
       " 5.624999999999995]"
      ]
     },
     "execution_count": 8,
     "metadata": {},
     "output_type": "execute_result"
    }
   ],
   "source": [
    "utility = []\n",
    "for i in range(df.shape[0]):\n",
    "    score = part_worth_dict[df['brand'][i]]+part_worth_dict[df['price'][i]]+part_worth_dict[df['weight'][i]]+part_worth_dict[df['crust'][i]]+part_worth_dict[df['cheese'][i]]+part_worth_dict[df['size'][i]]+part_worth_dict[df['toppings'][i]]+part_worth_dict[df['spicy'][i]]\n",
    "    utility.append(score)\n",
    "    \n",
    "df['utility'] = utility\n",
    "utility"
   ]
  },
  {
   "cell_type": "code",
   "execution_count": 9,
   "id": "0870d72c-d321-4443-ae18-5e830729c047",
   "metadata": {},
   "outputs": [
    {
     "name": "stdout",
     "output_type": "stream",
     "text": [
      "The profile that has the highest utility score : \n",
      " brand       Oven Story\n",
      "price            $4.00\n",
      "weight            100g\n",
      "crust            thick\n",
      "cheese      Mozzarella\n",
      "size             large\n",
      "toppings      mushroom\n",
      "spicy            extra\n",
      "ranking             16\n",
      "utility          7.625\n",
      "Name: 9, dtype: object\n"
     ]
    }
   ],
   "source": [
    "print(\"The profile that has the highest utility score :\",'\\n', df.iloc[np.argmax(utility)])"
   ]
  },
  {
   "cell_type": "code",
   "execution_count": 10,
   "id": "3e5f2a78-a295-41c8-a27b-2fbb457a1791",
   "metadata": {},
   "outputs": [
    {
     "name": "stdout",
     "output_type": "stream",
     "text": [
      "Preferred level in brand is :: Pizza hut\n",
      "Preferred level in price is :: $1.00\n",
      "Preferred level in weight is :: 100g\n",
      "Preferred level in crust is :: thick\n",
      "Preferred level in cheese is :: Mozzarella\n",
      "Preferred level in size is :: regular\n",
      "Preferred level in toppings is :: mushroom\n",
      "Preferred level in spicy is :: extra\n"
     ]
    }
   ],
   "source": [
    "for i,j in zip(attrib_level.keys(),range(0,len(conjoint_attributes))):\n",
    "    #print(i)\n",
    "    #level_name[j]\n",
    "    print(\"Preferred level in {} is :: {}\".format(i,level_name[j][important_levels[i]]))"
   ]
  }
 ],
 "metadata": {
  "kernelspec": {
   "display_name": "Python 3 (ipykernel)",
   "language": "python",
   "name": "python3"
  },
  "language_info": {
   "codemirror_mode": {
    "name": "ipython",
    "version": 3
   },
   "file_extension": ".py",
   "mimetype": "text/x-python",
   "name": "python",
   "nbconvert_exporter": "python",
   "pygments_lexer": "ipython3",
   "version": "3.12.7"
  }
 },
 "nbformat": 4,
 "nbformat_minor": 5
}
